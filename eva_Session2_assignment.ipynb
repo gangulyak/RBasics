{
 "cells": [
  {
   "cell_type": "markdown",
   "metadata": {
    "colab_type": "text",
    "deletable": true,
    "editable": true,
    "id": "-nJ7YEw_vyjG"
   },
   "source": [
    "# **Not an ideal network**"
   ]
  },
  {
   "cell_type": "code",
   "execution_count": 1,
   "metadata": {
    "colab": {
     "base_uri": "https://localhost:8080/",
     "height": 34
    },
    "colab_type": "code",
    "collapsed": false,
    "deletable": true,
    "editable": true,
    "id": "kGWv5hBhv2jf",
    "outputId": "6e96b6c7-ea53-4263-9588-3dad1ef34d87"
   },
   "outputs": [
    {
     "name": "stderr",
     "output_type": "stream",
     "text": [
      "Using TensorFlow backend.\n"
     ]
    }
   ],
   "source": [
    "# https://keras.io/\n",
    "# This cell installs keras from within Jupyter notebook; after installation keras is imported\n",
    "# allowing us to use the library in our code\n",
    "!pip install -q keras\n",
    "import keras"
   ]
  },
  {
   "cell_type": "code",
   "execution_count": 0,
   "metadata": {
    "colab": {},
    "colab_type": "code",
    "collapsed": true,
    "deletable": true,
    "editable": true,
    "id": "wnMlDJQKv4VG"
   },
   "outputs": [],
   "source": [
    "import numpy as np\n",
    "# Importing numpy and naming it np as a shortcut to access functionality of numpy\n",
    "\n",
    "from keras.models import Sequential\n",
    "from keras.layers import Flatten\n",
    "from keras.layers import Convolution2D\n",
    "# The four import statements above import Sequential (model) from keras and two \n",
    "# different types of predefined layers - Convolution2D which is used to carry out convolution\n",
    "# and the flatten layer which will be used to convert the output of different preceding layers\n",
    "# to a vector. This is usually done to feed as an input to a fully connected layer\n",
    "\n",
    "from keras.utils import np_utils\n",
    "# Import of utility methods from keras utils in order to easily work with numpy\n",
    "\n",
    "from keras.datasets import mnist\n",
    "# This imports data from the standard public database on handwritten digits called the MNIST database"
   ]
  },
  {
   "cell_type": "code",
   "execution_count": 3,
   "metadata": {
    "colab": {
     "base_uri": "https://localhost:8080/",
     "height": 52
    },
    "colab_type": "code",
    "collapsed": false,
    "deletable": true,
    "editable": true,
    "id": "8CdSu2lMwB9s",
    "outputId": "e4535d94-d099-4d27-aef3-728a5bbdc10f"
   },
   "outputs": [
    {
     "name": "stdout",
     "output_type": "stream",
     "text": [
      "Downloading data from https://s3.amazonaws.com/img-datasets/mnist.npz\n",
      "11493376/11490434 [==============================] - 0s 0us/step\n"
     ]
    }
   ],
   "source": [
    "(X_train, y_train), (X_test, y_test) = mnist.load_data()\n",
    "# Data is loaded from mnist using a predefined method; this allows splitting data into\n",
    "# training and test sets. Training set to be used for fitting and test set for validation"
   ]
  },
  {
   "cell_type": "code",
   "execution_count": 4,
   "metadata": {
    "colab": {
     "base_uri": "https://localhost:8080/",
     "height": 304
    },
    "colab_type": "code",
    "collapsed": false,
    "deletable": true,
    "editable": true,
    "id": "tLaDf0-rwCmj",
    "outputId": "a74e65f6-e4f0-4a2f-e508-7620a82a2cb8"
   },
   "outputs": [
    {
     "name": "stdout",
     "output_type": "stream",
     "text": [
      "(60000, 28, 28)\n"
     ]
    },
    {
     "data": {
      "text/plain": [
       "<matplotlib.image.AxesImage at 0x7fa7a419a668>"
      ]
     },
     "execution_count": 4,
     "metadata": {
      "tags": []
     },
     "output_type": "execute_result"
    },
    {
     "data": {
      "image/png": "[encoded data removed]",
      "text/plain": [
       "<Figure size 432x288 with 1 Axes>"
      ]
     },
     "metadata": {
      "tags": []
     },
     "output_type": "display_data"
    }
   ],
   "source": [
    "print (X_train.shape)\n",
    "# printing the shape of the input data set for training, size is 60000 records and images are\n",
    "# small 28x28 images as can be seen from the output of this statement\n",
    "from matplotlib import pyplot as plt\n",
    "# importing pyplot from matplotlib library and renaming it as plt\n",
    "%matplotlib inline\n",
    "# telling matplotlib to display images in jupyter output\n",
    "plt.imshow(X_train[0])\n",
    "# using matplotlib to plot a sample training set image; the first one here X_train[0]"
   ]
  },
  {
   "cell_type": "code",
   "execution_count": 0,
   "metadata": {
    "colab": {},
    "colab_type": "code",
    "collapsed": true,
    "deletable": true,
    "editable": true,
    "id": "erb11jNwwFwl"
   },
   "outputs": [],
   "source": [
    "X_train = X_train.reshape(X_train.shape[0], 28, 28,1)\n",
    "X_test = X_test.reshape(X_test.shape[0], 28, 28,1)\n",
    "# we are explicitly reshaping the input data to have specific number of records \n",
    "# each with size 28x28 with 1 channel"
   ]
  },
  {
   "cell_type": "code",
   "execution_count": 0,
   "metadata": {
    "colab": {},
    "colab_type": "code",
    "collapsed": true,
    "deletable": true,
    "editable": true,
    "id": "RLK4YDoRwHet"
   },
   "outputs": [],
   "source": [
    "X_train = X_train.astype('float32')\n",
    "X_test = X_test.astype('float32')\n",
    "# in the two statements above, input data is converted to type float32\n",
    "X_train /= 255\n",
    "X_test /= 255\n",
    "# in these two statements above, pixel values in the input are normalized to be numbers in the range 0 to 1\n",
    "# this is done to improve efficiency of operations that will be applied on the data in code that follows"
   ]
  },
  {
   "cell_type": "code",
   "execution_count": 7,
   "metadata": {
    "colab": {
     "base_uri": "https://localhost:8080/",
     "height": 34
    },
    "colab_type": "code",
    "collapsed": false,
    "deletable": true,
    "editable": true,
    "id": "JNKLOmhlwJQl",
    "outputId": "9c3086f1-2ff2-4ff7-8568-a6d7ef4aeae0"
   },
   "outputs": [
    {
     "data": {
      "text/plain": [
       "array([5, 0, 4, 1, 9, 2, 1, 3, 1, 4], dtype=uint8)"
      ]
     },
     "execution_count": 7,
     "metadata": {
      "tags": []
     },
     "output_type": "execute_result"
    }
   ],
   "source": [
    "y_train[:10]\n",
    "# we show the first 10 outputs or \"labels\" of the training data set\n",
    "# these are digits 5,0,... as can be seen below"
   ]
  },
  {
   "cell_type": "code",
   "execution_count": 0,
   "metadata": {
    "colab": {},
    "colab_type": "code",
    "collapsed": true,
    "deletable": true,
    "editable": true,
    "id": "YusMJguiwKsM"
   },
   "outputs": [],
   "source": [
    "# Convert 1-dimensional class arrays to 10-dimensional class matrices\n",
    "Y_train = np_utils.to_categorical(y_train, 10)\n",
    "Y_test = np_utils.to_categorical(y_test, 10)\n",
    "# a utility function from np_utils is used to convert each output label to \n",
    "# one-hot-encoded version allowing keras models to work with categorical data\n",
    "# for example the first training \"label\" 5 becomes a 10 column vector with position number 5 set as 1.0 and the rest as 0.0\n",
    "# a 10 column scheme is chosen as we are looking at a 10 way classification problem of digits ranging from 0 to 9"
   ]
  },
  {
   "cell_type": "code",
   "execution_count": 9,
   "metadata": {
    "colab": {
     "base_uri": "https://localhost:8080/",
     "height": 193
    },
    "colab_type": "code",
    "collapsed": false,
    "deletable": true,
    "editable": true,
    "id": "upxc99AswMW0",
    "outputId": "46b2d46d-3744-4f51-f75f-be6786a9bbef"
   },
   "outputs": [
    {
     "data": {
      "text/plain": [
       "array([[0., 0., 0., 0., 0., 1., 0., 0., 0., 0.],\n",
       "       [1., 0., 0., 0., 0., 0., 0., 0., 0., 0.],\n",
       "       [0., 0., 0., 0., 1., 0., 0., 0., 0., 0.],\n",
       "       [0., 1., 0., 0., 0., 0., 0., 0., 0., 0.],\n",
       "       [0., 0., 0., 0., 0., 0., 0., 0., 0., 1.],\n",
       "       [0., 0., 1., 0., 0., 0., 0., 0., 0., 0.],\n",
       "       [0., 1., 0., 0., 0., 0., 0., 0., 0., 0.],\n",
       "       [0., 0., 0., 1., 0., 0., 0., 0., 0., 0.],\n",
       "       [0., 1., 0., 0., 0., 0., 0., 0., 0., 0.],\n",
       "       [0., 0., 0., 0., 1., 0., 0., 0., 0., 0.]], dtype=float32)"
      ]
     },
     "execution_count": 9,
     "metadata": {
      "tags": []
     },
     "output_type": "execute_result"
    }
   ],
   "source": [
    "Y_train[:10]\n",
    "# we show the first 10 outputs or \"labels\" of the training data set AFTER conversion to categorical\n",
    "# as explained above the first entry of this array stands for the \"label\" 5; the second one for the label 0 \n",
    "# and so on. There will thus be 60000 entries in Y_train, each entry will be the categorical form of the corresponding label"
   ]
  },
  {
   "cell_type": "code",
   "execution_count": 10,
   "metadata": {
    "colab": {
     "base_uri": "https://localhost:8080/",
     "height": 882
    },
    "colab_type": "code",
    "collapsed": false,
    "deletable": true,
    "editable": true,
    "id": "irTVUE47wNwr",
    "outputId": "bef10ebe-09d4-493a-fc55-4fed275b083a"
   },
   "outputs": [
    {
     "name": "stdout",
     "output_type": "stream",
     "text": [
      "WARNING:tensorflow:From /usr/local/lib/python3.6/dist-packages/tensorflow/python/framework/op_def_library.py:263: colocate_with (from tensorflow.python.framework.ops) is deprecated and will be removed in a future version.\n",
      "Instructions for updating:\n",
      "Colocations handled automatically by placer.\n"
     ]
    },
    {
     "name": "stderr",
     "output_type": "stream",
     "text": [
      "/usr/local/lib/python3.6/dist-packages/ipykernel_launcher.py:4: UserWarning: Update your `Conv2D` call to the Keras 2 API: `Conv2D(32, (3, 3), activation=\"relu\", input_shape=(28, 28, 1...)`\n",
      "  after removing the cwd from sys.path.\n",
      "/usr/local/lib/python3.6/dist-packages/ipykernel_launcher.py:5: UserWarning: Update your `Conv2D` call to the Keras 2 API: `Conv2D(64, (3, 3), activation=\"relu\")`\n",
      "  \"\"\"\n",
      "/usr/local/lib/python3.6/dist-packages/ipykernel_launcher.py:6: UserWarning: Update your `Conv2D` call to the Keras 2 API: `Conv2D(128, (3, 3), activation=\"relu\")`\n",
      "  \n",
      "/usr/local/lib/python3.6/dist-packages/ipykernel_launcher.py:10: UserWarning: Update your `Conv2D` call to the Keras 2 API: `Conv2D(256, (3, 3), activation=\"relu\")`\n",
      "  # Remove the CWD from sys.path while we load stuff.\n",
      "/usr/local/lib/python3.6/dist-packages/ipykernel_launcher.py:11: UserWarning: Update your `Conv2D` call to the Keras 2 API: `Conv2D(512, (3, 3), activation=\"relu\")`\n",
      "  # This is added back by InteractiveShellApp.init_path()\n",
      "/usr/local/lib/python3.6/dist-packages/ipykernel_launcher.py:12: UserWarning: Update your `Conv2D` call to the Keras 2 API: `Conv2D(1024, (3, 3), activation=\"relu\")`\n",
      "  if sys.path[0] == '':\n",
      "/usr/local/lib/python3.6/dist-packages/ipykernel_launcher.py:13: UserWarning: Update your `Conv2D` call to the Keras 2 API: `Conv2D(2048, (3, 3), activation=\"relu\")`\n",
      "  del sys.path[0]\n",
      "/usr/local/lib/python3.6/dist-packages/ipykernel_launcher.py:14: UserWarning: Update your `Conv2D` call to the Keras 2 API: `Conv2D(10, (3, 3), activation=\"relu\")`\n",
      "  \n"
     ]
    },
    {
     "name": "stdout",
     "output_type": "stream",
     "text": [
      "_________________________________________________________________\n",
      "Layer (type)                 Output Shape              Param #   \n",
      "=================================================================\n",
      "conv2d_1 (Conv2D)            (None, 26, 26, 32)        320       \n",
      "_________________________________________________________________\n",
      "conv2d_2 (Conv2D)            (None, 24, 24, 64)        18496     \n",
      "_________________________________________________________________\n",
      "conv2d_3 (Conv2D)            (None, 22, 22, 128)       73856     \n",
      "_________________________________________________________________\n",
      "max_pooling2d_1 (MaxPooling2 (None, 11, 11, 128)       0         \n",
      "_________________________________________________________________\n",
      "conv2d_4 (Conv2D)            (None, 9, 9, 256)         295168    \n",
      "_________________________________________________________________\n",
      "conv2d_5 (Conv2D)            (None, 7, 7, 512)         1180160   \n",
      "_________________________________________________________________\n",
      "conv2d_6 (Conv2D)            (None, 5, 5, 1024)        4719616   \n",
      "_________________________________________________________________\n",
      "conv2d_7 (Conv2D)            (None, 3, 3, 2048)        18876416  \n",
      "_________________________________________________________________\n",
      "conv2d_8 (Conv2D)            (None, 1, 1, 10)          184330    \n",
      "_________________________________________________________________\n",
      "flatten_1 (Flatten)          (None, 10)                0         \n",
      "_________________________________________________________________\n",
      "activation_1 (Activation)    (None, 10)                0         \n",
      "=================================================================\n",
      "Total params: 25,348,362\n",
      "Trainable params: 25,348,362\n",
      "Non-trainable params: 0\n",
      "_________________________________________________________________\n"
     ]
    }
   ],
   "source": [
    "from keras.layers import Activation, MaxPooling2D\n",
    "# additional import from keras library of Activation and Max pooling layers\n",
    "# these will be used in the model being created in the next few lines\n",
    "\n",
    "model = Sequential() \n",
    "# we start with a declaration that we are going to use a sequential model from keras\n",
    "model.add(Convolution2D(32, 3, 3, activation='relu', input_shape=(28,28,1)))\n",
    "# the first layer of the model is a Convolution layer using 32 kernels each kernel is a 3x3 kernel and a relu activation used\n",
    "# this first layer needs to know the input it is dealing with and the \"input_shape\" \n",
    "# shows that it is of the form 28x28 with 1 channel \n",
    "# (1) Input channels = 1 (2) Receptive field = 3 (3) Outputs 32 channels (4) Resolution 26x26\n",
    "model.add(Convolution2D(64, 3, 3, activation='relu'))\n",
    "# the second layer of the model is a Convolution layer using 64 kernels each kernel is a 3x3 kernel with relu activation\n",
    "# (1) Input channels = 32 (2) Receptive field = 5 (3) Outputs 64 channels (4) Resolution 24x24\n",
    "model.add(Convolution2D(128, 3, 3, activation='relu'))\n",
    "# the third layer of the model is a Convolution layer using 128 kernels each kernel is a 3x3 kernel with relu activation\n",
    "# (1) Input channels = 64 (2) Receptive field = 7 (3) Outputs 128 channels (4) Resolution 22x22\n",
    "model.add(MaxPooling2D(pool_size=(2, 2)))\n",
    "# the fourth layer of the model is a Max Pooling layer of size 2x2\n",
    "# (1) Input channels = 128 (2) Receptive field = 14 (3) Outputs 128 channels (4) Resolution 11x11\n",
    "model.add(Convolution2D(256, 3, 3, activation='relu'))\n",
    "# the fifth layer of the model is a Convolution layer using 256 kernels each kernel is a 3x3 kernel with relu activation\n",
    "# (1) Input channels = 128 (2) Receptive field = 16 (3) Outputs 256 channels (4) Resolution 9x9\n",
    "model.add(Convolution2D(512, 3, 3, activation='relu'))\n",
    "# the sixth layer of the model is a Convolution layer using 512 kernels each kernel is a 3x3 kernel with relu activation\n",
    "# (1) Input channels = 256 (2) Receptive field = 18 (3) Outputs 512 channels (4) Resolution 7x7\n",
    "model.add(Convolution2D(1024, 3, 3, activation='relu'))\n",
    "# the seventh layer of the model is a Convolution layer using 1024 kernels each kernel is a 3x3 kernel with relu activation\n",
    "# (1) Input channels = 512 (2) Receptive field = 20 (3) Outputs 1024 channels (4) Resolution 5x5\n",
    "model.add(Convolution2D(2048, 3, 3, activation='relu'))\n",
    "# the eighth layer of the model is a Convolution layer using 2048 kernels each kernel is a 3x3 kernel with relu activation\n",
    "# (1) Input channels = 1024 (2) Receptive field = 22 (3) Outputs 2048 channels (4) Resolution 3x3\n",
    "model.add(Convolution2D(10, 3, 3, activation='relu'))\n",
    "# the ninth layer of the model is a Convolution layer using 10 kernels each kernel is a 3x3 kernel with relu activation\n",
    "# (1) Input channels = 2048 (2) Receptive field = 24 (3) Outputs 10 channels (4) Resolution 1x1\n",
    "model.add(Flatten())\n",
    "# the tenth layer of the model is a Flatten layer -used to take the output from preceding channel and create a 1 dim. vector\n",
    "# (1) Input channels = 10 (2) Receptive field = 24 (3) Outputs 1 vector\n",
    "model.add(Activation('softmax'))\n",
    "# A softmax activation is used to find which of the inputs has the highest probability; outputs 10 probability values\n",
    "model.summary()\n",
    "# this will print a summary structure of the model with number of parameters, layer structure, etc."
   ]
  },
  {
   "cell_type": "code",
   "execution_count": 0,
   "metadata": {
    "colab": {},
    "colab_type": "code",
    "collapsed": true,
    "deletable": true,
    "editable": true,
    "id": "VYZOpRb6yG7_"
   },
   "outputs": [],
   "source": [
    "model.compile(loss='categorical_crossentropy',\n",
    "             optimizer='adam',\n",
    "             metrics=['accuracy'])\n",
    "# the model created in the above cell is complied with a \"categorical cross entropy\" loss used for multi-class classification \n",
    "# model is compiled with the \"ADAM\" optimizer and the metrics to be computed is declared as \"accuracy\""
   ]
  },
  {
   "cell_type": "code",
   "execution_count": 12,
   "metadata": {
    "colab": {
     "base_uri": "https://localhost:8080/",
     "height": 494
    },
    "colab_type": "code",
    "collapsed": false,
    "deletable": true,
    "editable": true,
    "id": "5O248wVQyMft",
    "outputId": "dd11068a-300b-423b-b4ca-7a53f4469cdd"
   },
   "outputs": [
    {
     "name": "stdout",
     "output_type": "stream",
     "text": [
      "WARNING:tensorflow:From /usr/local/lib/python3.6/dist-packages/tensorflow/python/ops/math_ops.py:3066: to_int32 (from tensorflow.python.ops.math_ops) is deprecated and will be removed in a future version.\n",
      "Instructions for updating:\n",
      "Use tf.cast instead.\n"
     ]
    },
    {
     "name": "stderr",
     "output_type": "stream",
     "text": [
      "/usr/local/lib/python3.6/dist-packages/ipykernel_launcher.py:1: UserWarning: The `nb_epoch` argument in `fit` has been renamed `epochs`.\n",
      "  \"\"\"Entry point for launching an IPython kernel.\n"
     ]
    },
    {
     "name": "stdout",
     "output_type": "stream",
     "text": [
      "Epoch 1/10\n",
      "60000/60000 [==============================] - 115s 2ms/step - loss: 2.3026 - acc: 0.0988\n",
      "Epoch 2/10\n",
      "60000/60000 [==============================] - 111s 2ms/step - loss: 2.3026 - acc: 0.0987\n",
      "Epoch 3/10\n",
      "60000/60000 [==============================] - 112s 2ms/step - loss: 2.3026 - acc: 0.0987\n",
      "Epoch 4/10\n",
      "60000/60000 [==============================] - 112s 2ms/step - loss: 2.3026 - acc: 0.0987\n",
      "Epoch 5/10\n",
      "60000/60000 [==============================] - 112s 2ms/step - loss: 2.3026 - acc: 0.0987\n",
      "Epoch 6/10\n",
      "60000/60000 [==============================] - 112s 2ms/step - loss: 2.3026 - acc: 0.0987\n",
      "Epoch 7/10\n",
      "60000/60000 [==============================] - 112s 2ms/step - loss: 2.3026 - acc: 0.0987\n",
      "Epoch 8/10\n",
      "60000/60000 [==============================] - 112s 2ms/step - loss: 2.3026 - acc: 0.0987\n",
      "Epoch 9/10\n",
      "60000/60000 [==============================] - 112s 2ms/step - loss: 2.3026 - acc: 0.0987\n",
      "Epoch 10/10\n",
      "60000/60000 [==============================] - 112s 2ms/step - loss: 2.3026 - acc: 0.0987\n"
     ]
    },
    {
     "data": {
      "text/plain": [
       "<keras.callbacks.History at 0x7fa7a419ab00>"
      ]
     },
     "execution_count": 12,
     "metadata": {
      "tags": []
     },
     "output_type": "execute_result"
    }
   ],
   "source": [
    "model.fit(X_train, Y_train, batch_size=32, nb_epoch=10, verbose=1)\n",
    "# model is trained by fitting the input data and the labels using the Training set\n",
    "# model is trained for 10 epochs choosing a batch size of 32 for the purpose of gradient computation\n",
    "# verbosity level is set to 1 to ensure that we have feedback as the model trains; helps us understand training progress"
   ]
  },
  {
   "cell_type": "code",
   "execution_count": 0,
   "metadata": {
    "colab": {},
    "colab_type": "code",
    "collapsed": true,
    "deletable": true,
    "editable": true,
    "id": "Sst4KneiyOL5"
   },
   "outputs": [],
   "source": [
    "score = model.evaluate(X_test, Y_test, verbose=0)\n",
    "# score is calculated on the \"Test Set\"\n",
    "# this will return the loss and accuracy scores of the model on the Test data set"
   ]
  },
  {
   "cell_type": "code",
   "execution_count": 14,
   "metadata": {
    "colab": {
     "base_uri": "https://localhost:8080/",
     "height": 34
    },
    "colab_type": "code",
    "collapsed": false,
    "deletable": true,
    "editable": true,
    "id": "CfJiXOKsyj4y",
    "outputId": "6a05e531-5988-4390-92f1-5c41ddb9e503"
   },
   "outputs": [
    {
     "name": "stdout",
     "output_type": "stream",
     "text": [
      "[2.3025851249694824, 0.098]\n"
     ]
    }
   ],
   "source": [
    "print(score)\n",
    "# score computed above is printed"
   ]
  },
  {
   "cell_type": "code",
   "execution_count": 0,
   "metadata": {
    "colab": {},
    "colab_type": "code",
    "collapsed": true,
    "deletable": true,
    "editable": true,
    "id": "hwLSXt7nyn_0"
   },
   "outputs": [],
   "source": [
    "y_pred = model.predict(X_test)\n",
    "# model is used to predict the labels for the test data set\n",
    "# these predictions can be compared with the actual Test labels to gauge accuracy"
   ]
  },
  {
   "cell_type": "code",
   "execution_count": 16,
   "metadata": {
    "colab": {
     "base_uri": "https://localhost:8080/",
     "height": 193
    },
    "colab_type": "code",
    "collapsed": false,
    "deletable": true,
    "editable": true,
    "id": "WWKKoOKwyppN",
    "outputId": "cf5f6cf7-bef1-436a-911a-adb85c5c9ec1"
   },
   "outputs": [
    {
     "name": "stdout",
     "output_type": "stream",
     "text": [
      "[[0.1 0.1 0.1 0.1 0.1 0.1 0.1 0.1 0.1 0.1]\n",
      " [0.1 0.1 0.1 0.1 0.1 0.1 0.1 0.1 0.1 0.1]\n",
      " [0.1 0.1 0.1 0.1 0.1 0.1 0.1 0.1 0.1 0.1]\n",
      " [0.1 0.1 0.1 0.1 0.1 0.1 0.1 0.1 0.1 0.1]\n",
      " [0.1 0.1 0.1 0.1 0.1 0.1 0.1 0.1 0.1 0.1]\n",
      " [0.1 0.1 0.1 0.1 0.1 0.1 0.1 0.1 0.1 0.1]\n",
      " [0.1 0.1 0.1 0.1 0.1 0.1 0.1 0.1 0.1 0.1]\n",
      " [0.1 0.1 0.1 0.1 0.1 0.1 0.1 0.1 0.1 0.1]\n",
      " [0.1 0.1 0.1 0.1 0.1 0.1 0.1 0.1 0.1 0.1]]\n",
      "[7 2 1 0 4 1 4 9 5]\n"
     ]
    }
   ],
   "source": [
    "print(y_pred[:9])\n",
    "print(y_test[:9])\n",
    "# the first 10 values of the predicted labels are printed along with the values of actual test labels"
   ]
  },
  {
   "cell_type": "markdown",
   "metadata": {},
   "source": [
    "The model used here has many shortcomings, hence the title, \"Not an ideal network\"\n",
    "1) The model uses too many parameters for the task and is computationally inefficient (2) The model is designed in such a manner that the entire receptive field is not covered - input images are 28x28 while the effective receptive field is 24 (3) This network is without a Fully-Connected layer and is designed to output 10 probability numbers - not specific class prediction (4) We observe that backpropagation is not effective and the accuracy score remains near 10% which is the same probability as that of choosing 1 out of 10 digits randomly"
   ]
  },
  {
   "cell_type": "code",
   "execution_count": null,
   "metadata": {
    "collapsed": true
   },
   "outputs": [],
   "source": []
  }
 ],
 "metadata": {
  "accelerator": "GPU",
  "colab": {
   "collapsed_sections": [],
   "name": "Session2.ipynb",
   "provenance": [],
   "version": "0.3.2"
  },
  "kernelspec": {
   "display_name": "Python 3",
   "language": "python",
   "name": "python3"
  },
  "language_info": {
   "codemirror_mode": {
    "name": "ipython",
    "version": 3
   },
   "file_extension": ".py",
   "mimetype": "text/x-python",
   "name": "python",
   "nbconvert_exporter": "python",
   "pygments_lexer": "ipython3",
   "version": "3.5.3"
  }
 },
 "nbformat": 4,
 "nbformat_minor": 0
}
